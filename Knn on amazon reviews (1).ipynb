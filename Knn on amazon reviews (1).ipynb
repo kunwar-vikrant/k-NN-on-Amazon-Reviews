{
 "cells": [
  {
   "cell_type": "code",
   "execution_count": 0,
   "metadata": {
    "colab": {
     "autoexec": {
      "startup": false,
      "wait_interval": 0
     }
    },
    "colab_type": "code",
    "collapsed": true,
    "id": "LqCDUebFajD7"
   },
   "outputs": [],
   "source": [
    "import sqlite3 \n",
    "import pandas as pd \n",
    "import numpy as np \n",
    "import matplotlib.pyplot as plt\n",
    "import plotly.plotly as py\n",
    "import plotly.graph_objs as go\n",
    "from sklearn.cross_validation import train_test_split\n",
    "from sklearn.neighbors import KNeighborsClassifier\n",
    "from sklearn.metrics import accuracy_score\n",
    "from sklearn.cross_validation import cross_val_score\n",
    "from collections import Counter\n",
    "from sklearn.metrics import accuracy_score\n",
    "from sklearn import cross_validation\n",
    "from sklearn.feature_extraction.text import TfidfTransformer\n",
    "from sklearn.feature_extraction.text import TfidfVectorizer\n",
    "from sklearn.feature_extraction.text import CountVectorizer \n",
    "from sklearn.metrics import confusion_matrix \n",
    "from sklearn import metrics \n",
    "from sklearn.metrics import roc_curve, auc \n",
    "from nltk.stem.porter import PorterStemmer\n",
    "from sklearn.decomposition import TruncatedSVD"
   ]
  },
  {
   "cell_type": "code",
   "execution_count": 0,
   "metadata": {
    "colab": {
     "autoexec": {
      "startup": false,
      "wait_interval": 0
     }
    },
    "colab_type": "code",
    "collapsed": true,
    "id": "sesoV--Xd7vY"
   },
   "outputs": [],
   "source": [
    "final = pd.read_csv(\"final.csv\")"
   ]
  },
  {
   "cell_type": "markdown",
   "metadata": {
    "colab_type": "text",
    "id": "uoRRPNqLWuTF"
   },
   "source": [
    "# Sampling the data"
   ]
  },
  {
   "cell_type": "code",
   "execution_count": 0,
   "metadata": {
    "colab": {
     "autoexec": {
      "startup": false,
      "wait_interval": 0
     }
    },
    "colab_type": "code",
    "collapsed": true,
    "id": "nW4KLzLNA2OU"
   },
   "outputs": [],
   "source": [
    "positive_reviews = final.loc[final[\"Score\"] == \"positive\"]\n",
    "negative_reviews = final.loc[final[\"Score\"] == \"negative\"]\n",
    "\n",
    "positive_reviews = positive_reviews.sample(n = 5000)\n",
    "negative_reviews = negative_reviews.sample(n = 5000)\n",
    "\n",
    "f1 = [positive_reviews, negative_reviews]\n",
    "final_data = pd.concat(f1)\n",
    "\n",
    "final_data = final_data.drop([\"Text\"], axis = 1)\n",
    "final_data = final_data.drop(final_data.columns[0], axis = 1)"
   ]
  },
  {
   "cell_type": "markdown",
   "metadata": {
    "colab": {
     "autoexec": {
      "startup": false,
      "wait_interval": 0
     }
    },
    "colab_type": "code",
    "id": "kkbATL35xfew"
   },
   "source": [
    "# Sorting the dataset based on 'time'"
   ]
  },
  {
   "cell_type": "code",
   "execution_count": 0,
   "metadata": {
    "colab": {
     "autoexec": {
      "startup": false,
      "wait_interval": 0
     }
    },
    "colab_type": "code",
    "collapsed": true,
    "id": "foT3EKjpQz2F"
   },
   "outputs": [],
   "source": [
    "labels = final_data.Score"
   ]
  },
  {
   "cell_type": "code",
   "execution_count": 0,
   "metadata": {
    "colab": {
     "autoexec": {
      "startup": false,
      "wait_interval": 0
     }
    },
    "colab_type": "code",
    "collapsed": true,
    "id": "X9KVKlDoeXcP"
   },
   "outputs": [],
   "source": [
    "final_data = final_data.sort_values(\"Time\")"
   ]
  },
  {
   "cell_type": "code",
   "execution_count": 49,
   "metadata": {
    "colab": {
     "autoexec": {
      "startup": false,
      "wait_interval": 0
     },
     "base_uri": "https://localhost:8080/",
     "height": 34
    },
    "colab_type": "code",
    "executionInfo": {
     "elapsed": 1934,
     "status": "ok",
     "timestamp": 1528265190302,
     "user": {
      "displayName": "K V",
      "photoUrl": "https://lh3.googleusercontent.com/a/default-user=s128",
      "userId": "115566673853168956239"
     },
     "user_tz": -330
    },
    "id": "ru8Gsb7Rysgo",
    "outputId": "4e3616a3-79cb-4c0c-b839-69770ee5a694"
   },
   "outputs": [
    {
     "data": {
      "text/plain": [
       "(10000, 10)"
      ]
     },
     "execution_count": 49,
     "metadata": {
      "tags": []
     },
     "output_type": "execute_result"
    }
   ],
   "source": [
    "final_data.shape"
   ]
  },
  {
   "cell_type": "markdown",
   "metadata": {
    "colab_type": "text",
    "id": "_NRo5LYeWuTk"
   },
   "source": [
    "## Splitting the dataset into train and test data"
   ]
  },
  {
   "cell_type": "code",
   "execution_count": 0,
   "metadata": {
    "colab": {
     "autoexec": {
      "startup": false,
      "wait_interval": 0
     }
    },
    "colab_type": "code",
    "collapsed": true,
    "id": "IVmmf6JiGecq"
   },
   "outputs": [],
   "source": [
    "n = final_data.shape[0]\n",
    "train_size = 0.7\n",
    "\n",
    "train_set = final_data.iloc[:int(n*train_size)]\n",
    "test_set =final_data.iloc[int(n*train_size):]\n",
    "\n",
    "X_train = train_set.CleanedText\n",
    "y_train = train_set.Score\n",
    "\n",
    "X_test = test_set.CleanedText\n",
    "y_test= test_set.Score"
   ]
  },
  {
   "cell_type": "code",
   "execution_count": 11,
   "metadata": {
    "colab": {
     "autoexec": {
      "startup": false,
      "wait_interval": 0
     },
     "base_uri": "https://localhost:8080/",
     "height": 88
    },
    "colab_type": "code",
    "executionInfo": {
     "elapsed": 1077,
     "status": "ok",
     "timestamp": 1528263868815,
     "user": {
      "displayName": "K V",
      "photoUrl": "https://lh3.googleusercontent.com/a/default-user=s128",
      "userId": "115566673853168956239"
     },
     "user_tz": -330
    },
    "id": "OCCy0jArfiRj",
    "outputId": "56f19a34-fa3c-4879-e21c-ff3c13e654a8"
   },
   "outputs": [
    {
     "name": "stdout",
     "output_type": "stream",
     "text": [
      "{\"don't\", 'this', 'me', 'if', 'hers', 'at', 'should', 'from', 'now', 'myself', 'or', 'do', 'about', 'few', 'above', 'these', 'haven', 'hadn', \"weren't\", 'that', 're', 'those', 'ours', 'has', \"she's\", 'very', 'can', 'don', 'how', 'some', 'ourselves', 'am', 'couldn', 'needn', 'weren', 'with', 'down', 'was', 'his', 'she', 'between', 'once', 'any', 'more', \"shan't\", 'while', 'they', 'itself', 'into', 'so', 'only', 'did', \"you'll\", 'same', 'just', \"wouldn't\", 'will', 'i', 'my', 'below', 'aren', 'does', 'had', 'them', 'because', 'm', 'not', 'be', \"it's\", 'but', 'each', 'doesn', 'through', 'hasn', 'he', 'other', \"wasn't\", 'wasn', 'themselves', \"won't\", 've', 'on', 'shan', 'why', 'further', 'in', 'own', 't', 'we', 'mustn', 'been', 'herself', 'doing', 'when', 'to', \"needn't\", 'were', 'ain', 'yourselves', 'by', 'and', 'where', 'it', 'most', 'him', \"isn't\", 'didn', 'as', 'off', 'have', 'its', 'a', \"should've\", 'before', \"couldn't\", 'ma', 'against', 's', 'their', 'then', 'over', 'too', 'd', 'yours', 'won', \"doesn't\", 'whom', \"that'll\", 'after', 'until', 'of', 'here', 'y', \"shouldn't\", 'what', 'all', 'during', 'her', 'out', \"mustn't\", 'are', \"haven't\", \"hasn't\", 'our', 'being', 'is', \"you've\", \"didn't\", \"hadn't\", \"you'd\", 'll', 'you', 'nor', 'for', 'up', 'o', 'both', 'again', 'there', 'theirs', 'the', 'having', 'no', 'your', 'isn', 'mightn', \"mightn't\", 'which', 'wouldn', 'than', 'himself', \"aren't\", 'under', 'such', 'shouldn', 'yourself', 'who', \"you're\", 'an'}\n",
      "************************************\n",
      "tasti\n"
     ]
    }
   ],
   "source": [
    "import re\n",
    "# Tutorial about Python regular expressions: https://pymotw.com/2/re/\n",
    "import string\n",
    "from nltk.corpus import stopwords\n",
    "from nltk.stem import PorterStemmer\n",
    "from nltk.stem.wordnet import WordNetLemmatizer\n",
    "\n",
    "stop = set(stopwords.words('english')) #set of stopwords\n",
    "sno = nltk.stem.SnowballStemmer('english') #initialising the snowball stemmer\n",
    "\n",
    "def cleanhtml(sentence): #function to clean the word of any html-tags\n",
    "    cleanr = re.compile('<.*?>')\n",
    "    cleantext = re.sub(cleanr, ' ', sentence)\n",
    "    return cleantext\n",
    "def cleanpunc(sentence): #function to clean the word of any punctuation or special characters\n",
    "    cleaned = re.sub(r'[?|!|\\'|\"|#]',r'',sentence)\n",
    "    cleaned = re.sub(r'[.|,|)|(|\\|/]',r' ',cleaned)\n",
    "    return  cleaned\n",
    "print(stop)\n",
    "print('************************************')\n",
    "print(sno.stem('tasty'))"
   ]
  },
  {
   "cell_type": "markdown",
   "metadata": {
    "colab_type": "text",
    "id": "1Xlv_iCzWuUj"
   },
   "source": [
    "# K-NN using 'Bag of Words' "
   ]
  },
  {
   "cell_type": "code",
   "execution_count": 0,
   "metadata": {
    "colab": {
     "autoexec": {
      "startup": false,
      "wait_interval": 0
     }
    },
    "colab_type": "code",
    "collapsed": true,
    "id": "_0IFn8EIHpi3"
   },
   "outputs": [],
   "source": [
    "count_vect = CountVectorizer() #in scikit-learn\n",
    "X_train1 = count_vect.fit_transform(X_train)\n",
    "X_test1 = count_vect.transform(X_test)"
   ]
  },
  {
   "cell_type": "code",
   "execution_count": 13,
   "metadata": {
    "colab": {
     "autoexec": {
      "startup": false,
      "wait_interval": 0
     },
     "base_uri": "https://localhost:8080/",
     "height": 85
    },
    "colab_type": "code",
    "executionInfo": {
     "elapsed": 1023,
     "status": "ok",
     "timestamp": 1528263876049,
     "user": {
      "displayName": "K V",
      "photoUrl": "https://lh3.googleusercontent.com/a/default-user=s128",
      "userId": "115566673853168956239"
     },
     "user_tz": -330
    },
    "id": "eOPC5qQvugec",
    "outputId": "0f0f2733-bbb3-4d7e-a718-398eb760a850"
   },
   "outputs": [
    {
     "name": "stderr",
     "output_type": "stream",
     "text": [
      "/usr/local/lib/python3.6/dist-packages/sklearn/utils/validation.py:475: DataConversionWarning:\n",
      "\n",
      "Data with input dtype int64 was converted to float64 by StandardScaler.\n",
      "\n"
     ]
    }
   ],
   "source": [
    "#Standardization\n",
    "from sklearn.preprocessing import StandardScaler\n",
    "sc= StandardScaler(with_mean=False) \n",
    "X_train1 = sc.fit_transform(X_train1)\n",
    "X_test1 = sc.transform(X_test1)\n"
   ]
  },
  {
   "cell_type": "code",
   "execution_count": 14,
   "metadata": {
    "colab": {
     "autoexec": {
      "startup": false,
      "wait_interval": 0
     },
     "base_uri": "https://localhost:8080/",
     "height": 446
    },
    "colab_type": "code",
    "executionInfo": {
     "elapsed": 27760,
     "status": "ok",
     "timestamp": 1528263920608,
     "user": {
      "displayName": "K V",
      "photoUrl": "https://lh3.googleusercontent.com/a/default-user=s128",
      "userId": "115566673853168956239"
     },
     "user_tz": -330
    },
    "id": "kYVSwv1LPfUL",
    "outputId": "0dd4b272-79a9-4f58-92b9-a5cc57f6c31c"
   },
   "outputs": [
    {
     "name": "stdout",
     "output_type": "stream",
     "text": [
      "\n",
      "The optimal number of neighbors is 21.\n"
     ]
    },
    {
     "data": {
      "image/png": "[encoded data removed]",
      "text/plain": [
       "<matplotlib.figure.Figure at 0x7f9eab5c5240>"
      ]
     },
     "metadata": {
      "tags": []
     },
     "output_type": "display_data"
    },
    {
     "name": "stdout",
     "output_type": "stream",
     "text": [
      "the misclassification error for each k value is :  [0.452 0.441 0.439 0.426 0.426 0.425 0.406 0.397 0.383 0.375 0.372 0.387\n",
      " 0.392 0.395 0.404 0.417 0.436 0.452 0.458 0.467 0.472 0.477 0.479 0.482\n",
      " 0.484]\n"
     ]
    }
   ],
   "source": [
    "\n",
    "from sklearn.model_selection import TimeSeriesSplit\n",
    "# creating odd list of K for KNN\n",
    "myList = list(range(0,50))\n",
    "neighbors = list(filter(lambda x: x % 2 != 0, myList))\n",
    "\n",
    "# empty list that will hold cv scores\n",
    "cv_scores = []\n",
    "my_cv = [(train,test) for train, test in TimeSeriesSplit(n_splits=10).split(X_train1)]\n",
    "# perform 10-fold cross validation\n",
    "for k in neighbors:\n",
    "    knn = KNeighborsClassifier(n_neighbors=k)\n",
    "    scores = cross_val_score(knn, X_train1, y_train, cv = my_cv, scoring='accuracy')\n",
    "    cv_scores.append(scores.mean())\n",
    "    \n",
    "    \n",
    "# changing to misclassification error\n",
    "MSE = [1 - x for x in cv_scores]\n",
    "\n",
    "# determining best k\n",
    "optimal_k = neighbors[MSE.index(min(MSE))]\n",
    "print('\\nThe optimal number of neighbors is %d.' % optimal_k)\n",
    "\n",
    "# plot misclassification error vs k \n",
    "plt.plot(neighbors, MSE)\n",
    "\n",
    "for xy in zip(neighbors, np.round(MSE,3)):\n",
    "    plt.annotate('(%s, %s)' % xy, xy=xy, textcoords='data')\n",
    "\n",
    "plt.xlabel('Number of Neighbors K')\n",
    "plt.ylabel('Misclassification Error')\n",
    "plt.show()\n",
    "\n",
    "print(\"the misclassification error for each k value is : \", (np.round(MSE,3)))"
   ]
  },
  {
   "cell_type": "markdown",
   "metadata": {
    "colab": {
     "autoexec": {
      "startup": false,
      "wait_interval": 0
     }
    },
    "colab_type": "code",
    "id": "wTDMSL58QBLZ"
   },
   "source": [
    "### Best 'k' = 21"
   ]
  },
  {
   "cell_type": "code",
   "execution_count": 0,
   "metadata": {
    "colab": {
     "autoexec": {
      "startup": false,
      "wait_interval": 0
     }
    },
    "colab_type": "code",
    "collapsed": true,
    "id": "KMTIE9tRiyAE"
   },
   "outputs": [],
   "source": [
    "k = 21\n",
    "knn = KNeighborsClassifier(n_neighbors = k)\n",
    "knn.fit(X_train1,y_train)\n",
    "pred = knn.predict(X_test1)\n"
   ]
  },
  {
   "cell_type": "markdown",
   "metadata": {
    "colab_type": "text",
    "id": "LMgQ2oyLnk7p"
   },
   "source": [
    "## Generate the confusion matrix "
   ]
  },
  {
   "cell_type": "code",
   "execution_count": 22,
   "metadata": {
    "colab": {
     "autoexec": {
      "startup": false,
      "wait_interval": 0
     },
     "base_uri": "https://localhost:8080/",
     "height": 119
    },
    "colab_type": "code",
    "executionInfo": {
     "elapsed": 4294,
     "status": "ok",
     "timestamp": 1528264794656,
     "user": {
      "displayName": "K V",
      "photoUrl": "https://lh3.googleusercontent.com/a/default-user=s128",
      "userId": "115566673853168956239"
     },
     "user_tz": -330
    },
    "id": "tGlOmnYKQIu8",
    "outputId": "24f418c4-7ade-40df-aa1f-0ac4d02d9506"
   },
   "outputs": [
    {
     "name": "stdout",
     "output_type": "stream",
     "text": [
      "\n",
      "****Train accuracy for k = 21 is 77.46\n",
      "\n",
      "****Test accuracy for k = 21 is 64.67\n",
      "[[991 622]\n",
      " [438 949]]\n"
     ]
    }
   ],
   "source": [
    "\n",
    "import itertools\n",
    "from sklearn.metrics import confusion_matrix\n",
    "acc = accuracy_score(y_test, pred, normalize=True) * float(100)\n",
    "x = knn.predict(X_train1)\n",
    "tr_acc = accuracy_score(y_train, x, normalize=True) * float(100)\n",
    "print('\\n****Train accuracy for k = {} is {:.2f}'.format(k,tr_acc))\n",
    "print('\\n****Test accuracy for k = {} is {:.2f}'.format(k,acc))\n",
    "print(confusion_matrix(y_test, pred))\n",
    "\n",
    "\n"
   ]
  },
  {
   "cell_type": "markdown",
   "metadata": {
    "colab_type": "text",
    "id": "Ia__45FvWuVR"
   },
   "source": [
    "# K-NN using Tf-idf"
   ]
  },
  {
   "cell_type": "code",
   "execution_count": 0,
   "metadata": {
    "colab": {
     "autoexec": {
      "startup": false,
      "wait_interval": 0
     }
    },
    "colab_type": "code",
    "collapsed": true,
    "id": "o-YDiw0M_X8n"
   },
   "outputs": [],
   "source": [
    "#TF-IDF\n",
    "tf_idf_vect = TfidfVectorizer(ngram_range=(1,2))\n",
    "X_train2 = tf_idf_vect.fit_transform(X_train)\n",
    "X_test2 = tf_idf_vect.transform(X_test)"
   ]
  },
  {
   "cell_type": "code",
   "execution_count": 0,
   "metadata": {
    "colab": {
     "autoexec": {
      "startup": false,
      "wait_interval": 0
     }
    },
    "colab_type": "code",
    "collapsed": true,
    "id": "saLkGwSYABvM"
   },
   "outputs": [],
   "source": [
    "#Standardization\n",
    "from sklearn.preprocessing import StandardScaler\n",
    "sc= StandardScaler(with_mean=False) \n",
    "X_train2 = sc.fit_transform(X_train2)\n",
    "X_test2 = sc.transform(X_test2)"
   ]
  },
  {
   "cell_type": "code",
   "execution_count": 84,
   "metadata": {
    "colab": {
     "autoexec": {
      "startup": false,
      "wait_interval": 0
     },
     "base_uri": "https://localhost:8080/",
     "height": 446
    },
    "colab_type": "code",
    "executionInfo": {
     "elapsed": 92547,
     "status": "ok",
     "timestamp": 1528266236043,
     "user": {
      "displayName": "K V",
      "photoUrl": "https://lh3.googleusercontent.com/a/default-user=s128",
      "userId": "115566673853168956239"
     },
     "user_tz": -330
    },
    "id": "ogalNCQlAHpb",
    "outputId": "e985483f-48c3-4951-a771-20536d46f4ab"
   },
   "outputs": [
    {
     "name": "stdout",
     "output_type": "stream",
     "text": [
      "\n",
      "The optimal number of neighbors is 19.\n"
     ]
    },
    {
     "data": {
      "image/png": "[encoded data removed]",
      "text/plain": [
       "<matplotlib.figure.Figure at 0x7f9e8a08aa58>"
      ]
     },
     "metadata": {
      "tags": []
     },
     "output_type": "display_data"
    },
    {
     "name": "stdout",
     "output_type": "stream",
     "text": [
      "the misclassification error for each k value is :  [0.507 0.494 0.503 0.472 0.469 0.48  0.488 0.483 0.476 0.462 0.468 0.479\n",
      " 0.48  0.491 0.492 0.492 0.492 0.492 0.492 0.492 0.492 0.492 0.492 0.492\n",
      " 0.492]\n"
     ]
    }
   ],
   "source": [
    "\n",
    "\n",
    "# creating odd list of K for KNN\n",
    "myList = list(range(0,50))\n",
    "neighbors = list(filter(lambda x: x % 2 != 0, myList))\n",
    "\n",
    "# empty list that will hold cv scores\n",
    "cv_scores = []\n",
    "my_cv = [(train,test) for train, test in TimeSeriesSplit(n_splits=10).split(X_train2)]\n",
    "# perform 10-fold cross validation\n",
    "for k in neighbors:\n",
    "    knn = KNeighborsClassifier(n_neighbors=k)\n",
    "    scores = cross_val_score(knn, X_train2, y_train, cv = my_cv, scoring='accuracy')\n",
    "    cv_scores.append(scores.mean())\n",
    "    \n",
    "    \n",
    "# changing to misclassification error\n",
    "MSE = [1 - x for x in cv_scores]\n",
    "\n",
    "# determining best k\n",
    "optimal_k = neighbors[MSE.index(min(MSE))]\n",
    "print('\\nThe optimal number of neighbors is %d.' % optimal_k)\n",
    "\n",
    "# plot misclassification error vs k \n",
    "plt.plot(neighbors, MSE)\n",
    "\n",
    "for xy in zip(neighbors, np.round(MSE,3)):\n",
    "    plt.annotate('(%s, %s)' % xy, xy=xy, textcoords='data')\n",
    "\n",
    "plt.xlabel('Number of Neighbors K')\n",
    "plt.ylabel('Misclassification Error')\n",
    "plt.show()\n",
    "\n",
    "print(\"the misclassification error for each k value is : \", (np.round(MSE,3)))"
   ]
  },
  {
   "cell_type": "markdown",
   "metadata": {
    "colab_type": "text",
    "id": "XP9uW30nnk80"
   },
   "source": [
    "### Best 'k' = 19"
   ]
  },
  {
   "cell_type": "code",
   "execution_count": 85,
   "metadata": {
    "colab": {
     "autoexec": {
      "startup": false,
      "wait_interval": 0
     },
     "base_uri": "https://localhost:8080/",
     "height": 85
    },
    "colab_type": "code",
    "executionInfo": {
     "elapsed": 7988,
     "status": "ok",
     "timestamp": 1528266254864,
     "user": {
      "displayName": "K V",
      "photoUrl": "https://lh3.googleusercontent.com/a/default-user=s128",
      "userId": "115566673853168956239"
     },
     "user_tz": -330
    },
    "id": "SF3QxG15AMhk",
    "outputId": "85040913-0523-4574-c4eb-eeb9c3eeac4f"
   },
   "outputs": [
    {
     "name": "stdout",
     "output_type": "stream",
     "text": [
      "\n",
      "****Train accuracy for k = 19 is 48.40\n",
      "\n",
      "****Test accuracy for k = 19 is 53.97\n"
     ]
    }
   ],
   "source": [
    "k = 19\n",
    "knn = KNeighborsClassifier(n_neighbors = k)\n",
    "knn.fit(X_train2,y_train)\n",
    "pred = knn.predict(X_test2)\n",
    "acc = accuracy_score(y_test, pred, normalize=True) * float(100)\n",
    "x = knn.predict(X_train2)\n",
    "tr_acc = accuracy_score(y_train, x, normalize=True) * float(100)\n",
    "print('\\n****Train accuracy for k = {} is {:.2f}'.format(k,tr_acc))\n",
    "print('\\n****Test accuracy for k = {} is {:.2f}'.format(k,acc))"
   ]
  },
  {
   "cell_type": "markdown",
   "metadata": {
    "colab_type": "text",
    "id": "-JeqpYrPnk9C"
   },
   "source": [
    "## Generate the confusion matrix "
   ]
  },
  {
   "cell_type": "code",
   "execution_count": 0,
   "metadata": {
    "colab": {
     "autoexec": {
      "startup": false,
      "wait_interval": 0
     },
     "base_uri": "https://localhost:8080/",
     "height": 51
    },
    "colab_type": "code",
    "executionInfo": {
     "elapsed": 2189,
     "status": "ok",
     "timestamp": 1528174815070,
     "user": {
      "displayName": "K V",
      "photoUrl": "https://lh3.googleusercontent.com/a/default-user=s128",
      "userId": "115566673853168956239"
     },
     "user_tz": -330
    },
    "id": "yJsA8Xr-D1B6",
    "outputId": "70d5641f-5385-4ee7-8be5-9b599aa25607"
   },
   "outputs": [
    {
     "name": "stdout",
     "output_type": "stream",
     "text": [
      "[[   0 1608]\n",
      " [   0 1392]]\n"
     ]
    }
   ],
   "source": [
    "print(confusion_matrix(y_test, pred))"
   ]
  },
  {
   "cell_type": "markdown",
   "metadata": {
    "colab_type": "text",
    "id": "QgrEFiOMWuWQ"
   },
   "source": [
    "# Preparing Data using Word2Vec for K-NN"
   ]
  },
  {
   "cell_type": "code",
   "execution_count": 0,
   "metadata": {
    "colab": {
     "autoexec": {
      "startup": false,
      "wait_interval": 0
     }
    },
    "colab_type": "code",
    "collapsed": true,
    "id": "iEo1U9GfEAvr"
   },
   "outputs": [],
   "source": [
    "# Train your own Word2Vec model using your own text corpus\n",
    "import gensim\n",
    "i=0\n",
    "train_sent=[]\n",
    "for sent in X_train:\n",
    "    filtered_sentence=[]\n",
    "    sent=cleanhtml(sent)\n",
    "    for w in sent.split():\n",
    "        for cleaned_words in cleanpunc(w).split():\n",
    "            if(cleaned_words.isalpha()):    \n",
    "                filtered_sentence.append(cleaned_words.lower())\n",
    "            else:\n",
    "                continue \n",
    "    train_sent.append(filtered_sentence)\n",
    "    "
   ]
  },
  {
   "cell_type": "code",
   "execution_count": 0,
   "metadata": {
    "colab": {
     "autoexec": {
      "startup": false,
      "wait_interval": 0
     }
    },
    "colab_type": "code",
    "collapsed": true,
    "id": "Uwwb3aywg_L8"
   },
   "outputs": [],
   "source": [
    "\n",
    "i=0\n",
    "test_sent=[]\n",
    "for sent in X_test:\n",
    "    filtered_sentence=[]\n",
    "    sent=cleanhtml(sent)\n",
    "    for w in sent.split():\n",
    "        for cleaned_words in cleanpunc(w).split():\n",
    "            if(cleaned_words.isalpha()):    \n",
    "                filtered_sentence.append(cleaned_words.lower())\n",
    "            else:\n",
    "                continue \n",
    "    test_sent.append(filtered_sentence)"
   ]
  },
  {
   "cell_type": "code",
   "execution_count": 0,
   "metadata": {
    "colab": {
     "autoexec": {
      "startup": false,
      "wait_interval": 0
     }
    },
    "colab_type": "code",
    "collapsed": true,
    "id": "jLbG3OIwfwvo"
   },
   "outputs": [],
   "source": [
    "from gensim.models import Word2Vec\n",
    "from gensim.models import KeyedVectors\n",
    "\n",
    "w2v_model1=gensim.models.Word2Vec(train_sent,min_count=5,size=50, workers=4)    \n",
    "w2v_model2=gensim.models.Word2Vec(test_sent,min_count=5,size=50, workers=4) \n"
   ]
  },
  {
   "cell_type": "markdown",
   "metadata": {
    "colab_type": "text",
    "id": "Mr158nvQWuWv"
   },
   "source": [
    "## K-NN using Average Word2Vec"
   ]
  },
  {
   "cell_type": "code",
   "execution_count": 54,
   "metadata": {
    "colab": {
     "autoexec": {
      "startup": false,
      "wait_interval": 0
     },
     "base_uri": "https://localhost:8080/",
     "height": 51
    },
    "colab_type": "code",
    "executionInfo": {
     "elapsed": 2925,
     "status": "ok",
     "timestamp": 1528265228267,
     "user": {
      "displayName": "K V",
      "photoUrl": "https://lh3.googleusercontent.com/a/default-user=s128",
      "userId": "115566673853168956239"
     },
     "user_tz": -330
    },
    "id": "Cvgev43FgDtU",
    "outputId": "477d9f6f-622a-4ffb-b59e-8b3e56c8f404"
   },
   "outputs": [
    {
     "name": "stdout",
     "output_type": "stream",
     "text": [
      "7000\n",
      "50\n"
     ]
    }
   ],
   "source": [
    "#AVG-W2V\n",
    "sent_vectors = []; # the avg-w2v for each sentence/review is stored in this list\n",
    "for sent in train_sent: # for each review/sentence\n",
    "    sent_vec = np.zeros(50) # as word vectors are of zero length\n",
    "    cnt_words =0; # num of words with a valid vector in the sentence/review\n",
    "    for word in sent: # for each word in a review/sentence\n",
    "        try:\n",
    "            vec = w2v_model1.wv[word]\n",
    "            sent_vec += vec\n",
    "            cnt_words += 1\n",
    "        except:\n",
    "            pass\n",
    "    sent_vec /= cnt_words\n",
    "    sent_vectors.append(sent_vec)\n",
    "print(len(sent_vectors))\n",
    "print(len(sent_vectors[0]))"
   ]
  },
  {
   "cell_type": "code",
   "execution_count": 55,
   "metadata": {
    "colab": {
     "autoexec": {
      "startup": false,
      "wait_interval": 0
     },
     "base_uri": "https://localhost:8080/",
     "height": 51
    },
    "colab_type": "code",
    "executionInfo": {
     "elapsed": 1682,
     "status": "ok",
     "timestamp": 1528265231430,
     "user": {
      "displayName": "K V",
      "photoUrl": "https://lh3.googleusercontent.com/a/default-user=s128",
      "userId": "115566673853168956239"
     },
     "user_tz": -330
    },
    "id": "-0l4DYwbiLnX",
    "outputId": "31e00540-d1d4-4bf8-f4ec-7ba01694baf5"
   },
   "outputs": [
    {
     "name": "stdout",
     "output_type": "stream",
     "text": [
      "3000\n",
      "50\n"
     ]
    }
   ],
   "source": [
    "#AVG-W2V\n",
    "sent_vectors2 = []; # the avg-w2v for each sentence/review is stored in this list\n",
    "for sent in test_sent: # for each review/sentence\n",
    "    sent_vec = np.zeros(50) # as word vectors are of zero length\n",
    "    cnt_words =0; # num of words with a valid vector in the sentence/review\n",
    "    for word in sent: # for each word in a review/sentence\n",
    "        try:\n",
    "            vec = w2v_model2.wv[word]\n",
    "            sent_vec += vec\n",
    "            cnt_words += 1\n",
    "        except:\n",
    "            pass\n",
    "    sent_vec /= cnt_words\n",
    "    sent_vectors2.append(sent_vec)\n",
    "print(len(sent_vectors2))\n",
    "print(len(sent_vectors2[0]))"
   ]
  },
  {
   "cell_type": "code",
   "execution_count": 0,
   "metadata": {
    "colab": {
     "autoexec": {
      "startup": false,
      "wait_interval": 0
     }
    },
    "colab_type": "code",
    "collapsed": true,
    "id": "F6IGlF4igVcW"
   },
   "outputs": [],
   "source": [
    "#Standardization\n",
    "from sklearn.preprocessing import StandardScaler\n",
    "sc= StandardScaler(with_mean=False) \n",
    "X_train3 = sc.fit_transform(sent_vectors)\n",
    "X_test3 = sc.transform(sent_vectors2)"
   ]
  },
  {
   "cell_type": "code",
   "execution_count": 57,
   "metadata": {
    "colab": {
     "autoexec": {
      "startup": false,
      "wait_interval": 0
     },
     "base_uri": "https://localhost:8080/",
     "height": 448
    },
    "colab_type": "code",
    "executionInfo": {
     "elapsed": 44846,
     "status": "ok",
     "timestamp": 1528265288647,
     "user": {
      "displayName": "K V",
      "photoUrl": "https://lh3.googleusercontent.com/a/default-user=s128",
      "userId": "115566673853168956239"
     },
     "user_tz": -330
    },
    "id": "uQ8NcZV7gnQk",
    "outputId": "fc8771c0-96a0-4897-ee7e-d01aaef52ab3"
   },
   "outputs": [
    {
     "name": "stdout",
     "output_type": "stream",
     "text": [
      "\n",
      "The optimal number of neighbors is 31.\n"
     ]
    },
    {
     "data": {
      "image/png": "[encoded data removed]",
      "text/plain": [
       "<matplotlib.figure.Figure at 0x7f9e98a94c88>"
      ]
     },
     "metadata": {
      "tags": []
     },
     "output_type": "display_data"
    },
    {
     "name": "stdout",
     "output_type": "stream",
     "text": [
      "the misclassification error for each k value is :  [0.417 0.396 0.38  0.375 0.372 0.368 0.362 0.36  0.359 0.358 0.354 0.356\n",
      " 0.354 0.354 0.356 0.352 0.353 0.356 0.357 0.356 0.356 0.359 0.358 0.354\n",
      " 0.356]\n"
     ]
    }
   ],
   "source": [
    "\n",
    "\n",
    "# creating odd list of K for KNN\n",
    "myList = list(range(0,50))\n",
    "neighbors = list(filter(lambda x: x % 2 != 0, myList))\n",
    "\n",
    "# empty list that will hold cv scores\n",
    "cv_scores = []\n",
    "my_cv = [(train,test) for train, test in TimeSeriesSplit(n_splits=10).split(X_train3)]\n",
    "# perform 10-fold cross validation\n",
    "for k in neighbors:\n",
    "    knn = KNeighborsClassifier(n_neighbors=k)\n",
    "    scores = cross_val_score(knn, X_train3, y_train, cv = my_cv, scoring='accuracy')\n",
    "    cv_scores.append(scores.mean())\n",
    "    \n",
    "    \n",
    "# changing to misclassification error\n",
    "MSE = [1 - x for x in cv_scores]\n",
    "\n",
    "# determining best k\n",
    "optimal_k = neighbors[MSE.index(min(MSE))]\n",
    "print('\\nThe optimal number of neighbors is %d.' % optimal_k)\n",
    "\n",
    "# plot misclassification error vs k \n",
    "plt.plot(neighbors, MSE)\n",
    "\n",
    "for xy in zip(neighbors, np.round(MSE,3)):\n",
    "    plt.annotate('(%s, %s)' % xy, xy=xy, textcoords='data')\n",
    "\n",
    "plt.xlabel('Number of Neighbors K')\n",
    "plt.ylabel('Misclassification Error')\n",
    "plt.show()\n",
    "\n",
    "print(\"the misclassification error for each k value is : \", (np.round(MSE,3)))"
   ]
  },
  {
   "cell_type": "markdown",
   "metadata": {
    "colab_type": "text",
    "id": "vrdryNpGnk_X"
   },
   "source": [
    "### Best 'k' = 31"
   ]
  },
  {
   "cell_type": "code",
   "execution_count": 58,
   "metadata": {
    "colab": {
     "autoexec": {
      "startup": false,
      "wait_interval": 0
     },
     "base_uri": "https://localhost:8080/",
     "height": 85
    },
    "colab_type": "code",
    "executionInfo": {
     "elapsed": 6648,
     "status": "ok",
     "timestamp": 1528265313696,
     "user": {
      "displayName": "K V",
      "photoUrl": "https://lh3.googleusercontent.com/a/default-user=s128",
      "userId": "115566673853168956239"
     },
     "user_tz": -330
    },
    "id": "S9-Dj4oHimO9",
    "outputId": "f823516a-889b-4a5d-edba-15e210fee7cb"
   },
   "outputs": [
    {
     "name": "stdout",
     "output_type": "stream",
     "text": [
      "\n",
      "****Train accuracy for k = 31 is 68.73\n",
      "\n",
      "****Test accuracy for k = 31 is 51.50\n"
     ]
    }
   ],
   "source": [
    "k = 31\n",
    "knn = KNeighborsClassifier(n_neighbors = k)\n",
    "knn.fit(X_train3,y_train)\n",
    "pred = knn.predict(X_test3)\n",
    "acc = accuracy_score(y_test, pred, normalize=True) * float(100)\n",
    "x = knn.predict(X_train3)\n",
    "tr_acc = accuracy_score(y_train, x, normalize=True) * float(100)\n",
    "print('\\n****Train accuracy for k = {} is {:.2f}'.format(k,tr_acc))\n",
    "print('\\n****Test accuracy for k = {} is {:.2f}'.format(k,acc))"
   ]
  },
  {
   "cell_type": "markdown",
   "metadata": {
    "colab_type": "text",
    "id": "7SG7wL8Knk_k"
   },
   "source": [
    "## Generate the confusion matrix "
   ]
  },
  {
   "cell_type": "code",
   "execution_count": 59,
   "metadata": {
    "colab": {
     "autoexec": {
      "startup": false,
      "wait_interval": 0
     },
     "base_uri": "https://localhost:8080/",
     "height": 51
    },
    "colab_type": "code",
    "executionInfo": {
     "elapsed": 1910,
     "status": "ok",
     "timestamp": 1528265320076,
     "user": {
      "displayName": "K V",
      "photoUrl": "https://lh3.googleusercontent.com/a/default-user=s128",
      "userId": "115566673853168956239"
     },
     "user_tz": -330
    },
    "id": "cEdJWosYjGe6",
    "outputId": "22a5ee3d-8548-415e-9160-8c20d9472f10"
   },
   "outputs": [
    {
     "name": "stdout",
     "output_type": "stream",
     "text": [
      "[[1428  133]\n",
      " [1322  117]]\n"
     ]
    }
   ],
   "source": [
    "print(confusion_matrix(y_test, pred))"
   ]
  },
  {
   "cell_type": "markdown",
   "metadata": {
    "colab": {
     "autoexec": {
      "startup": false,
      "wait_interval": 0
     }
    },
    "colab_type": "code",
    "id": "F1_0gkGvjUT3"
   },
   "source": [
    "# K-NN using Word2Vec-Tfidf"
   ]
  },
  {
   "cell_type": "code",
   "execution_count": 0,
   "metadata": {
    "colab": {
     "autoexec": {
      "startup": false,
      "wait_interval": 0
     }
    },
    "colab_type": "code",
    "collapsed": true,
    "id": "F-JpHhTHjaRR"
   },
   "outputs": [],
   "source": [
    "#TF-IDF\n",
    "\n",
    "tf_idf_vect = TfidfVectorizer()\n",
    "final_tf_idf = tf_idf_vect.fit_transform(X_train)\n",
    "tfidf_feat = tf_idf_vect.get_feature_names()\n",
    " # tfidf words/col-names\n",
    "# final_tf_idf is the sparse matrix with row= sentence, col=word and cell_val = tfidf\n",
    "\n",
    "train_vectors = []; # the tfidf-w2v for each sentence/review is stored in this list\n",
    "row=0;\n",
    "for sent in train_sent: # for each review/sentence\n",
    "    sent_vec = np.zeros(50) # as word vectors are of zero length\n",
    "    weight_sum = 0; # num of words with a valid vector in the sentence/review\n",
    "    for word in sent: # for each word in a review/sentence\n",
    "        try:\n",
    "            vec = w2v_model1.wv[word]\n",
    "            # obtain the tf_idf of a word in a sentence/review\n",
    "            tfidf = final_tf_idf[row, tfidf_feat.index(word)]\n",
    "            sent_vec += (vec * tfidf)\n",
    "            weight_sum += tfidf\n",
    "            \n",
    "            \n",
    "        except:\n",
    "            pass\n",
    "\n",
    "    sent_vec /= weight_sum\n",
    "    #print(np.isnan(np.sum(sent_vec)))\n",
    "\n",
    "    train_vectors.append(sent_vec)\n",
    "    row += 1"
   ]
  },
  {
   "cell_type": "code",
   "execution_count": 0,
   "metadata": {
    "colab": {
     "autoexec": {
      "startup": false,
      "wait_interval": 0
     }
    },
    "colab_type": "code",
    "collapsed": true,
    "id": "vcL2vwnujaNZ"
   },
   "outputs": [],
   "source": [
    "#TF-IDF\n",
    "\n",
    "tf_idf_vect = TfidfVectorizer()\n",
    "final_tf_idf = tf_idf_vect.fit_transform(X_test)\n",
    "tfidf_feat = tf_idf_vect.get_feature_names()\n",
    " # tfidf words/col-names\n",
    "# final_tf_idf is the sparse matrix with row= sentence, col=word and cell_val = tfidf\n",
    "\n",
    "test_vectors = []; # the tfidf-w2v for each sentence/review is stored in this list\n",
    "row=0;\n",
    "for sent in test_sent: # for each review/sentence\n",
    "    sent_vec = np.zeros(50) # as word vectors are of zero length\n",
    "    weight_sum = 0; # num of words with a valid vector in the sentence/review\n",
    "    for word in sent: # for each word in a review/sentence\n",
    "        try:\n",
    "            vec = w2v_model2.wv[word]\n",
    "            # obtain the tf_idf of a word in a sentence/review\n",
    "            tfidf = final_tf_idf[row, tfidf_feat.index(word)]\n",
    "            sent_vec += (vec * tfidf)\n",
    "            weight_sum += tfidf\n",
    "            \n",
    "            \n",
    "        except:\n",
    "            pass\n",
    "\n",
    "    sent_vec /= weight_sum\n",
    "    #print(np.isnan(np.sum(sent_vec)))\n",
    "\n",
    "    test_vectors.append(sent_vec)\n",
    "    row += 1"
   ]
  },
  {
   "cell_type": "code",
   "execution_count": 0,
   "metadata": {
    "colab": {
     "autoexec": {
      "startup": false,
      "wait_interval": 0
     }
    },
    "colab_type": "code",
    "collapsed": true,
    "id": "wESiPTQdkbrh"
   },
   "outputs": [],
   "source": [
    "#Standardization\n",
    "from sklearn.preprocessing import StandardScaler\n",
    "sc= StandardScaler(with_mean=False) \n",
    "X_train4 = sc.fit_transform(train_vectors)\n",
    "X_test4 = sc.transform(test_vectors)"
   ]
  },
  {
   "cell_type": "code",
   "execution_count": 0,
   "metadata": {
    "colab": {
     "autoexec": {
      "startup": false,
      "wait_interval": 0
     },
     "base_uri": "https://localhost:8080/",
     "height": 446
    },
    "colab_type": "code",
    "executionInfo": {
     "elapsed": 44380,
     "status": "ok",
     "timestamp": 1528175167611,
     "user": {
      "displayName": "K V",
      "photoUrl": "https://lh3.googleusercontent.com/a/default-user=s128",
      "userId": "115566673853168956239"
     },
     "user_tz": -330
    },
    "id": "Plcxmzlhk4-e",
    "outputId": "28aa4a2a-bdbf-427d-9c17-198c8e12fa5e"
   },
   "outputs": [
    {
     "name": "stdout",
     "output_type": "stream",
     "text": [
      "\n",
      "The optimal number of neighbors is 35.\n"
     ]
    },
    {
     "data": {
      "image/png": "[encoded data removed]",
      "text/plain": [
       "<matplotlib.figure.Figure at 0x7f8b0b3d5240>"
      ]
     },
     "metadata": {
      "tags": []
     },
     "output_type": "display_data"
    },
    {
     "name": "stdout",
     "output_type": "stream",
     "text": [
      "the misclassification error for each k value is :  [0.418 0.403 0.396 0.387 0.387 0.38  0.381 0.377 0.375 0.376 0.369 0.369\n",
      " 0.37  0.368 0.368 0.369 0.368 0.365 0.367 0.367 0.368 0.366 0.367 0.368\n",
      " 0.366]\n"
     ]
    }
   ],
   "source": [
    "\n",
    "\n",
    "# creating odd list of K for KNN\n",
    "myList = list(range(0,50))\n",
    "neighbors = list(filter(lambda x: x % 2 != 0, myList))\n",
    "\n",
    "# empty list that will hold cv scores\n",
    "cv_scores = []\n",
    "my_cv = [(train,test) for train, test in TimeSeriesSplit(n_splits=10).split(X_train4)]\n",
    "# perform 10-fold cross validation\n",
    "for k in neighbors:\n",
    "    knn = KNeighborsClassifier(n_neighbors=k)\n",
    "    scores = cross_val_score(knn, X_train4, y_train, cv = my_cv, scoring='accuracy')\n",
    "    cv_scores.append(scores.mean())\n",
    "    \n",
    "    \n",
    "# changing to misclassification error\n",
    "MSE = [1 - x for x in cv_scores]\n",
    "\n",
    "# determining best k\n",
    "optimal_k = neighbors[MSE.index(min(MSE))]\n",
    "print('\\nThe optimal number of neighbors is %d.' % optimal_k)\n",
    "\n",
    "# plot misclassification error vs k \n",
    "plt.plot(neighbors, MSE)\n",
    "\n",
    "for xy in zip(neighbors, np.round(MSE,3)):\n",
    "    plt.annotate('(%s, %s)' % xy, xy=xy, textcoords='data')\n",
    "\n",
    "plt.xlabel('Number of Neighbors K')\n",
    "plt.ylabel('Misclassification Error')\n",
    "plt.show()\n",
    "\n",
    "print(\"the misclassification error for each k value is : \", (np.round(MSE,3)))"
   ]
  },
  {
   "cell_type": "markdown",
   "metadata": {
    "colab_type": "text",
    "id": "vtXY6834nlBI"
   },
   "source": [
    "### Best 'k' = 35"
   ]
  },
  {
   "cell_type": "code",
   "execution_count": 76,
   "metadata": {
    "colab": {
     "autoexec": {
      "startup": false,
      "wait_interval": 0
     },
     "base_uri": "https://localhost:8080/",
     "height": 85
    },
    "colab_type": "code",
    "executionInfo": {
     "elapsed": 1496,
     "status": "ok",
     "timestamp": 1528265847461,
     "user": {
      "displayName": "K V",
      "photoUrl": "https://lh3.googleusercontent.com/a/default-user=s128",
      "userId": "115566673853168956239"
     },
     "user_tz": -330
    },
    "id": "ivCIbybOk9fZ",
    "outputId": "7f41a5c2-d916-4859-ae3c-58f3b6e170d6"
   },
   "outputs": [
    {
     "name": "stdout",
     "output_type": "stream",
     "text": [
      "\n",
      "****Train accuracy for k = 35 is 71.41\n",
      "\n",
      "****Test accuracy for k = 35 is 47.37\n"
     ]
    }
   ],
   "source": [
    "k = 35\n",
    "knn = KNeighborsClassifier(n_neighbors = k)\n",
    "knn.fit(X_train4,y_train)\n",
    "pred = knn.predict(X_test4)\n",
    "acc = accuracy_score(y_test, pred, normalize=True) * float(100)\n",
    "x = knn.predict(X_train4)\n",
    "tr_acc = accuracy_score(y_train, x, normalize=True) * float(100)\n",
    "print('\\n****Train accuracy for k = {} is {:.2f}'.format(k,tr_acc))\n",
    "print('\\n****Test accuracy for k = {} is {:.2f}'.format(k,acc))"
   ]
  },
  {
   "cell_type": "markdown",
   "metadata": {
    "colab_type": "text",
    "id": "Kkxmq6Q3nlBg"
   },
   "source": [
    "## Generate the confusion matrix "
   ]
  },
  {
   "cell_type": "code",
   "execution_count": 0,
   "metadata": {
    "colab": {
     "autoexec": {
      "startup": false,
      "wait_interval": 0
     },
     "base_uri": "https://localhost:8080/",
     "height": 51
    },
    "colab_type": "code",
    "executionInfo": {
     "elapsed": 1682,
     "status": "ok",
     "timestamp": 1528175183917,
     "user": {
      "displayName": "K V",
      "photoUrl": "https://lh3.googleusercontent.com/a/default-user=s128",
      "userId": "115566673853168956239"
     },
     "user_tz": -330
    },
    "id": "F6v2VcF3lL3b",
    "outputId": "a63bf81c-bfc6-47d7-877a-0693a5183427"
   },
   "outputs": [
    {
     "name": "stdout",
     "output_type": "stream",
     "text": [
      "[[ 105 1503]\n",
      " [  76 1316]]\n"
     ]
    }
   ],
   "source": [
    "print(confusion_matrix(y_test, pred))"
   ]
  },
  {
   "cell_type": "code",
   "execution_count": 0,
   "metadata": {
    "colab": {
     "autoexec": {
      "startup": false,
      "wait_interval": 0
     }
    },
    "colab_type": "code",
    "collapsed": true,
    "id": "pfQcAqVdWgqV"
   },
   "outputs": [],
   "source": []
  },
  {
   "cell_type": "code",
   "execution_count": 0,
   "metadata": {
    "colab": {
     "autoexec": {
      "startup": false,
      "wait_interval": 0
     }
    },
    "colab_type": "code",
    "collapsed": true,
    "id": "bg-7HsRRVu3a"
   },
   "outputs": [],
   "source": [
    "import plotly.tools as tls\n",
    "tls.set_credentials_file(username='kv007', api_key='MSfBc0Jqh4Vq99anlb0p')"
   ]
  },
  {
   "cell_type": "markdown",
   "metadata": {
    "colab_type": "text",
    "id": "N2076QOlnlCD"
   },
   "source": [
    "# Conclusion"
   ]
  },
  {
   "cell_type": "code",
   "execution_count": null,
   "metadata": {
    "colab": {
     "autoexec": {
      "startup": false,
      "wait_interval": 0
     },
     "base_uri": "https://localhost:8080/",
     "height": 583
    },
    "colab_type": "code",
    "executionInfo": {
     "elapsed": 3646,
     "status": "ok",
     "timestamp": 1528266427909,
     "user": {
      "displayName": "K V",
      "photoUrl": "https://lh3.googleusercontent.com/a/default-user=s128",
      "userId": "115566673853168956239"
     },
     "user_tz": -330
    },
    "id": "cbreT3DsVuuL",
    "outputId": "cf6a8cd9-d3e8-4103-aa20-35508a94aef5"
   },
   "outputs": [],
   "source": [
    "trace = go.Table(\n",
    "    header=dict(values=['Algorithm', 'Model', 'Best Hyperparameter(K)','Train metric','Test metric']),\n",
    "    cells=dict(values=[['Bag of words', 'Tf-idf', 'Average Word2Vec', 'Tf-idf Word2Vec'],\n",
    "                       ['K-NN', 'K-NN', 'K-NN', 'K-NN'],\n",
    "                       [21,19,31,35],\n",
    "                       ['accuracy(68.73%)','accuracy(48.40%)','accuracy(77.46%)','accuracy(71.41%)'],\n",
    "                      ['accuracy(60.70%)','accuracy(46.40%)','accuracy(46.47%)','accuracy(47.37%)']]))\n",
    "\n",
    "data = [trace] \n",
    "py.iplot(data, filename = 'Conclusion')"
   ]
  },
  {
   "cell_type": "code",
   "execution_count": null,
   "metadata": {
    "collapsed": true
   },
   "outputs": [],
   "source": []
  }
 ],
 "metadata": {
  "accelerator": "GPU",
  "colab": {
   "collapsed_sections": [],
   "default_view": {},
   "name": "Untitled2+%282%29.ipynb",
   "provenance": [],
   "version": "0.3.2",
   "views": {}
  },
  "kernelspec": {
   "display_name": "Python 3",
   "language": "python",
   "name": "python3"
  },
  "language_info": {
   "codemirror_mode": {
    "name": "ipython",
    "version": 3
   },
   "file_extension": ".py",
   "mimetype": "text/x-python",
   "name": "python",
   "nbconvert_exporter": "python",
   "pygments_lexer": "ipython3",
   "version": "3.6.3"
  }
 },
 "nbformat": 4,
 "nbformat_minor": 1
}
